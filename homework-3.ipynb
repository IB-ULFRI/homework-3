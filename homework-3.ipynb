{
 "cells": [
  {
   "cell_type": "markdown",
   "metadata": {},
   "source": [
    "# Homework 3: How similar is SARS-Cov-2 to other viruses?\n",
    "\n",
    "Evolution is the process by which different living organisms are believed to have developed from earlier forms during the earth's history. The main component that evolves through time is the DNA which is passed on to the next generation. Genetic mutations, variation and recombination are processes that modify DNA and cause variation in the population. The main drivers of evolution are natural selection and genetic drift that act on this variation. Through time, some characteristics become more common or rare in the population resulting in a change in heritable ones arising over successive generations.\n",
    "\n",
    "Even though we do not consider viruses to be *living* organisms, they are still subject to evolution. Their genetic material undergoes the same transformations and selection resulting in new variants and even new types of viruses.\n",
    "\n",
    "<div>\n",
    "    <img src=\"https://upload.wikimedia.org/wikipedia/commons/thumb/7/70/Phylogenetic_tree.svg/800px-Phylogenetic_tree.svg.png\" width=\"500\">\n",
    "</div>\n",
    "\n",
    "Comparing the characteristics of different organisms allows us to estimate their evolutionary distance. We use genetic material as a proxy for these characteristics. We estimate evolutionary distance as the number of transformation events that would have to occur for one organism to become genetically identical to the other. In practice, this means aligning genetic sequences and observing the number of transformation events. Performing multiple sequence alignment and calculating pairwise distances gives us a distance matrix.\n",
    "\n",
    "One way of presenting the evolutionary distance between organisms is with a phylogenetic tree. Similar organisms are connected via their common ancestor, even though we do not have genetic data to prove their existence. However, due to the nature of evolution, these common ancestors likely existed in the past. The most common algorithms for building phylogenetic trees are the UPGMA and Neighbor-Joining algorithms. Many frequentist and Bayesian variations of these are also available online.\n",
    "\n",
    "Once we know the evolution of the virus, we can expand our knowledge about similar viruses to our virus of interest. Our task is implementing the neighbour-joining method, a plotting function and constructing a phylogenetic tree of coronaviruses. In the last problem, we will see how recombination can seemingly contradict the flow of evolution."
   ]
  },
  {
   "cell_type": "code",
   "execution_count": 2,
   "metadata": {},
   "outputs": [],
   "source": [
    "import numpy as np\n",
    "import pandas as pd\n",
    "from Bio import Entrez"
   ]
  },
  {
   "cell_type": "code",
   "execution_count": 3,
   "metadata": {},
   "outputs": [],
   "source": [
    "# In order to import from the python file without hassle, we add the current\n",
    "# directory to the python path\n",
    "import sys; sys.path.append(\".\")"
   ]
  },
  {
   "cell_type": "markdown",
   "metadata": {},
   "source": [
    "Let's let the nice folks at NCBI know who we are."
   ]
  },
  {
   "cell_type": "code",
   "execution_count": 4,
   "metadata": {},
   "outputs": [],
   "source": [
    "Entrez.email = \"yourname@student.uni-lj.si\""
   ]
  },
  {
   "cell_type": "markdown",
   "metadata": {},
   "source": [
    "## Problem 1: Neighbour joining implementation\n",
    "\n",
    "**Task:** Use the template `neighbour_joining` function in the file `helper_functions.py` and implement the neighbour-joining (NJ) algorithm for phylogenetic agglomerative clustering. Your implementation should a `Node` objects to construct a tree structure and return a root Node. Use provided classes and add code where needed. Stick to the provided structure and test your solution with added unit tests. Provided unit tests do not test the correctness of your implementation but only the structure of your output.\n",
    "\n",
    "**Implementation requirement:** In theory, the neighbour-joining algorithm results in an unrooted tree. But for plotting and later rooting the tree, your implementation should return a root node. In the last iteration of the NJ, the algorithm joins the final two nodes by creating a root node and setting the distance to each of the remaining nodes as half of the distance between them.\n",
    "\n",
    "**[10 points]**"
   ]
  },
  {
   "cell_type": "code",
   "execution_count": 5,
   "metadata": {},
   "outputs": [],
   "source": [
    "from helper_functions import neighbour_joining"
   ]
  },
  {
   "cell_type": "markdown",
   "metadata": {},
   "source": [
    "## Problem 2: Plotting a phylogenetic tree\n",
    "\n",
    "**Task:**\n",
    "Use the template `plot_nj_tree` function in the file `helper_functions.py` to write a plotting function using the `matplotlib` library.\n",
    "The only limitation is to use the template function and two required inputs. How you position a dendrogram, colour the plot, labels and everything else is up to you.\n",
    "\n",
    "Test your implementation to our provided unit tests by comparing your output plot to the ground truth in `tests/test_plotting_dendrogram.png`. Write your own tests as well.\n",
    "\n",
    "**[10 points]**"
   ]
  },
  {
   "cell_type": "code",
   "execution_count": 6,
   "metadata": {},
   "outputs": [],
   "source": [
    "from helper_functions import plot_dendrogram_NJ"
   ]
  },
  {
   "cell_type": "markdown",
   "metadata": {},
   "source": [
    "## Problem 3: Phylogenetic analysis of coronavirus\n",
    "\n",
    "You obtained 31 aligned sequences of different coronaviruses collected at multiple time points worldwide. We used the Clustal algorithm to provide you with a multiple sequence alignment (MSA) file in `data/clustal_MSA_coronavirus.fasta`. Each entry has a form `name|accession`.\n",
    "\n",
    "To calculate genetic distance from pairwise sequence alignment we will use Hamming distance. This naive approach estimates the distance by counting the number of mismatches in the alignment. For example, alignment *\"ATC\"* and *\"ATT\"* will have a distance of 1 while *\"AT-C\"* and *\"CTTC\"* will have a distance of 2. There are more sophisticated approaches to evolutionary distance estimation, but for our use case, Hamming distance will suffice.\n",
    "\n",
    "Plot a phylogenetic tree of coronaviruses using your own implementation of `neighbor_joining` and `plot_nj_tree`.\n",
    "Compare your results to the ones found on [Wikipedia](https://en.wikipedia.org/wiki/Coronavirus). Note that three additional viruses in our alignment file do not appear on the figure.\n",
    "\n",
    "You might notice your figure differs from the one on Wikipedia. Neighbour-joining results in an unrooted or poorly rooted tree at best. Biologists developed a cleaver approach to determine the root of a neighbour joining tree by including one distant relative species in the alignment, called the outgroup. In the course of evolution, a distance relative diverged first. Thereby, we can determine the midpoint between the outgroup and the rest of phylogenetic tree as a root. This approach proclaim the root node as the last common ancestor between all species in the tree. We will be using the *Breda virus* as an outgroup.\n",
    "\n",
    "Order in a dendrogram can give an impression of a nicer plot. We can achieve this by setting the left child as the one with a fewer leaf nodes in a subtree.\n",
    "\n",
    "As a final step, fetch NCBI annotations to determine their coronavirus group. Present those groupings on your figure with colours.\n",
    "\n",
    "**Task:** Plot the most informative phylogenetic tree by iteratively improving your implementation.\n",
    "\n",
    "**a)** Calculate pairwise distances of aligned sequences using Hamming distance.\n",
    "Construct and plot the phylogeny dendrogram using your own implementations of neighbour-joining and plotting algorithm in `helper_functions`. **[4 points]**\n",
    "\n",
    "**b)** Implement `reroot_tree` function in the `helper_function`. Use it to reroot a tree using the *Breda virus* as an outgroup. Make sure you add a new root node and remove the previous root node from a tree. **[+2 points]**\n",
    "\n",
    "**c)** Implement `sort_children_by_leaves` function in the `helper_function`. Use it to sort child nodes by assigning a lower index to children with fewer leaf nodes in their subtree. **[+2 points]**\n",
    "\n",
    "**d)** Use colour and labelling to show four major groups of coronaviruses. You can find the type of coronavirus in the NCBI annotations under the *taxonomy* field. **[+2 points]**\n",
    "\n",
    "You do not have to implement all of the functions above.\n",
    "Save your final figure in `problem3.png`. Write your comments in `phylogeny_comments` variable. Are coronavirus groups well separated? Which group does SARS-CoV-2 belong to?\n",
    "\n",
    "We will feature the best figures in front of the class in a feedback session.\n",
    "\n",
    "If you allow us to feature your plot, set the variable `use_my_plot` to `\"yes\"`."
   ]
  },
  {
   "cell_type": "code",
   "execution_count": 7,
   "metadata": {},
   "outputs": [],
   "source": [
    "# TODO"
   ]
  },
  {
   "cell_type": "code",
   "execution_count": null,
   "metadata": {},
   "outputs": [],
   "source": [
    "phylogeny_comments = \"\"\"\n",
    "\"\"\""
   ]
  },
  {
   "cell_type": "code",
   "execution_count": null,
   "metadata": {},
   "outputs": [],
   "source": [
    "use_my_plot = \"no\" # type \"yes\" if you allow your plot to be featured in a feeback session"
   ]
  },
  {
   "cell_type": "markdown",
   "metadata": {},
   "source": [
    "## Problem 4: Recombination\n",
    "\n",
    "We tend to think of evolution as a hierarchical process: we have some common ancestor that split into several sub-species through a series of random mutations. However, nothing ever really is that straightforward in biology. There have been well-documented cases of horizontal gene transfer in nature where organisms swap entire chunks of DNA with each other. In viruses, something similar can happen as well. When a cell is infected with multiple viruses (potentially coming from different strains), a *recombination event* can occur. Recombination occurs when the DNA is being copied, but, for some reason, the copying machine swaps out the virus that is being copied. For instance, we could start copying virus A, and then midway, the copier will switch to virus B, effectively resulting in new virus DNA that has DNA from both viruses A and B.\n",
    "\n",
    "During the start of the global pandemic, there was much confusion about the origins of SARS-CoV-2. We initially thought it came from bats. Then, at some point, people noticed that a critical piece of the spike protein -- the receptor binding domain (RBD) -- was more similar to the sequence of pangolin coronaviruses. This evidence points to recombination. Before the virus jumped to humans, there must have been some host infected with both the Bat RaTG13 coronavirus and the Pangolin coronavirus where this recombination happened.\n",
    "\n",
    "In this problem, we will look at the spike protein, look at the receptor binding domain, and check this evidence for recombination ourselves.\n",
    "\n",
    "**Task**:\n",
    "Take the spike proteins of the three viruses in question and align the sequences with each other. Since we're comparing the differences between the bat and pangolin coronaviruses to humans, we only need to align humans to bat and humans to pangolin and compare the differences in alignments. Find the RBD of SARS-CoV-2 (the NCBI graphical view of the SARS-CoV-2 genome might be helpful here) and look at the aminoacid mismatch rate inside the RBD vs the outside. Which coronavirus is more similar to SARS-CoV-2 in the RBD, and which is more similar outside the RBD? Create a visualization of your choice that compares the human to bat and the human to pangolin alignment. Look at Fig. 2a from [the original Nature paper](https://www.nature.com/articles/s41586-020-2169-0) for one possible visualization direction. Save your visualization to `recombination.png` and write down the mismatch rates and your comments/findings into `recombination_comments`.\n",
    "**[10 points]**\n",
    "\n",
    "Here are some things you may want to think about. Looking at your visualization, are there other regions in the spike gene (or elsewhere in the genome) that could be due to recombination? Could there be any alternative explanation for differences in these regions?"
   ]
  },
  {
   "cell_type": "code",
   "execution_count": null,
   "metadata": {},
   "outputs": [],
   "source": [
    "recombination_comments = \"\"\"\n",
    "\"\"\""
   ]
  },
  {
   "cell_type": "markdown",
   "metadata": {},
   "source": [
    "## Bonus 1: Bootstrap confidence\n",
    "\n",
    "We performed an alignement, calulated pairwise distances and built a phylogenetic tree. Are we confident in our phylogenetic tree? The answer is, we don't know, because we never estimated the uncertainty of our solution.\n",
    "\n",
    "In 1985, Joseph Felsenstein wrote an [article](https://pubmed.ncbi.nlm.nih.gov/28561359/) on estimating confidence limits of phylogenetic trees using a non-parametric bootstrap. It stands from the idea of creating bootstrap versions of alignment and building alternative phylogenetic trees. A confidence in a clade is then represented as a proportion of alternative trees that contain the same clade.\n",
    "\n",
    "To generate a bootstrap version of alignment with length $N$, we sample $N$ alignment positions with replacement. Rearanging sequences accoring to a sequence of sampled indicies give us an alternative alignment. Based on new alignment we calculate the distance and apply neighbour joining algorithm to get an alternative tree.\n",
    "\n",
    "Here we define a clade equivalence:\n",
    "*Let $L$ be a set of leaf nodes in a clade from original tree and $L'$ be a set of leaf nodes in a clade from alternative tree. Let $L_1$ and $L_2$ be sets of leaf nodes of both children of a clade, such that $L = L_1 \\bigcup L_2$. A clade of an alternative tree is considered the same if and only if $L_1 \\bigcap L_1' = \\emptyset\\;\\land\\;L_2 \\bigcap L_2'=\\emptyset$ or $L_1 \\bigcap L_2' = \\emptyset\\;\\land\\;L_2 \\bigcap L_1'=\\emptyset$.*\n",
    "\n",
    "You are now given a Clustal mutliple sequence alignment of spike proteins from the same coronavirses as before. The alignment is store in `data/clustal_MSA_coronavirus_spike.fasta`. Again use Hamming distance for calculating distance and Breda virus as an outgroup.\n",
    "\n",
    "**Task:** Construct a phylogenetic tree from spike protein MSA and use the bootstrap method for estimating confidence of each clade. Plot the phylogenetic tree and add confidence estimates on the plot.\n",
    "\n",
    "**a)** Construct 100 alternative trees from bootstraped coronavirus alignments. Make sure you root your trees before estimating confidence.\n",
    "\n",
    "**b)** Write a function to find a clade from the original tree in an alternative tree.\n",
    "\n",
    "**c)** Calculate and asign confidence value of a clade to an attribute `Node.confidence`. Note that leaf nodes always have confidence 1.\n",
    "\n",
    "**d)** Plot the phylogeny tree with confidence estimates using the same plotting function `plot_nj_tree` as in Problem 3. Do not plot confidence of leaf nodes.\n",
    "\n",
    "Save your plot into `confidence_tree.png`.\n",
    "Write your comments in `confidence_comments` variable. How does the phylogenetic tree compares to the one from Problem 3? Which part of the phylogenetic tree are we the least confident in?\n",
    "\n",
    "**[5 points]**"
   ]
  },
  {
   "cell_type": "code",
   "execution_count": null,
   "metadata": {},
   "outputs": [],
   "source": [
    "confidence_comments = \"\"\"\n",
    "\"\"\""
   ]
  },
  {
   "cell_type": "markdown",
   "metadata": {},
   "source": [
    "## Bonus 2: Radial dendrogram\n",
    "\n",
    "Use the template `plot_nj_tree_radial` function in the file `helper_functions.py` to write a plotting function for a radial dendrogram using the `matplotlib` library.\n",
    "\n",
    "Pseudocode for radial dedrogram is provided in the [implementation article](https://kops.uni-konstanz.de/bitstream/handle/123456789/5941/bbs_dpt_05.pdf?sequence=1&isAllowed=y).\n",
    "\n",
    "Plot the radial dedrogram for coronavirus spike protein MSA in the `data/clustal_MSA_coronavirus_spike.fasta` file.\n",
    "Save your figure in `radial_dendrogram.png`.\n"
   ]
  },
  {
   "cell_type": "markdown",
   "metadata": {},
   "source": []
  }
 ],
 "metadata": {
  "interpreter": {
   "hash": "19167336c34debbf3ed0c8a6c47e469c7ef399c642d9dbd1ae8127ec97a8727c"
  },
  "kernelspec": {
   "display_name": "Python 3.10.0 ('bio_hw3')",
   "language": "python",
   "name": "python3"
  },
  "language_info": {
   "codemirror_mode": {
    "name": "ipython",
    "version": 3
   },
   "file_extension": ".py",
   "mimetype": "text/x-python",
   "name": "python",
   "nbconvert_exporter": "python",
   "pygments_lexer": "ipython3",
   "version": "3.10.0"
  },
  "orig_nbformat": 4
 },
 "nbformat": 4,
 "nbformat_minor": 2
}
